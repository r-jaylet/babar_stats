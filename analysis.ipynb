{
 "cells": [
  {
   "cell_type": "code",
   "execution_count": 2,
   "id": "convinced-excuse",
   "metadata": {},
   "outputs": [],
   "source": [
    "import pandas as pd\n",
    "import numpy as np\n",
    "import matplotlib.pyplot as plt"
   ]
  },
  {
   "cell_type": "code",
   "execution_count": 16,
   "id": "magnetic-tender",
   "metadata": {},
   "outputs": [
    {
     "name": "stderr",
     "output_type": "stream",
     "text": [
      "C:\\Users\\remij\\Miniconda3\\lib\\site-packages\\ipykernel_launcher.py:1: ParserWarning: Falling back to the 'python' engine because the 'c' engine does not support regex separators (separators > 1 char and different from '\\s+' are interpreted as regex); you can avoid this warning by specifying engine='python'.\n",
      "  \"\"\"Entry point for launching an IPython kernel.\n"
     ]
    }
   ],
   "source": [
    "data = pd.read_csv('localhost.csv', sep='delimiter', header=None)"
   ]
  },
  {
   "cell_type": "code",
   "execution_count": 17,
   "id": "capable-married",
   "metadata": {},
   "outputs": [
    {
     "data": {
      "text/html": [
       "<div>\n",
       "<style scoped>\n",
       "    .dataframe tbody tr th:only-of-type {\n",
       "        vertical-align: middle;\n",
       "    }\n",
       "\n",
       "    .dataframe tbody tr th {\n",
       "        vertical-align: top;\n",
       "    }\n",
       "\n",
       "    .dataframe thead th {\n",
       "        text-align: right;\n",
       "    }\n",
       "</style>\n",
       "<table border=\"1\" class=\"dataframe\">\n",
       "  <thead>\n",
       "    <tr style=\"text-align: right;\">\n",
       "      <th></th>\n",
       "      <th>0</th>\n",
       "    </tr>\n",
       "  </thead>\n",
       "  <tbody>\n",
       "    <tr>\n",
       "      <th>0</th>\n",
       "      <td>\"1\",\"Barchiefs\"</td>\n",
       "    </tr>\n",
       "    <tr>\n",
       "      <th>1</th>\n",
       "      <td>\"2\",\"Barmen\"</td>\n",
       "    </tr>\n",
       "    <tr>\n",
       "      <th>2</th>\n",
       "      <td>\"1\",\"1\",\"10\"</td>\n",
       "    </tr>\n",
       "    <tr>\n",
       "      <th>3</th>\n",
       "      <td>\"2\",\"1\",\"11\"</td>\n",
       "    </tr>\n",
       "    <tr>\n",
       "      <th>4</th>\n",
       "      <td>\"3\",\"1\",\"25\"</td>\n",
       "    </tr>\n",
       "    <tr>\n",
       "      <th>...</th>\n",
       "      <td>...</td>\n",
       "    </tr>\n",
       "    <tr>\n",
       "      <th>201430</th>\n",
       "      <td>\"d60f10f1007ebd9f7bb57ba4d0ef3f91ace3e21c8c3c4...</td>\n",
       "    </tr>\n",
       "    <tr>\n",
       "      <th>201431</th>\n",
       "      <td>\"db2bfc7e456fe6eb876aeb9f5041a8401c25762ac97d8...</td>\n",
       "    </tr>\n",
       "    <tr>\n",
       "      <th>201432</th>\n",
       "      <td>\"eb4592a8e95a3016a256e9c55742054733cf2bc687945...</td>\n",
       "    </tr>\n",
       "    <tr>\n",
       "      <th>201433</th>\n",
       "      <td>\"edfc5ba030622c28a77906f8e8374fd569ac23ef9e724...</td>\n",
       "    </tr>\n",
       "    <tr>\n",
       "      <th>201434</th>\n",
       "      <td>\"ffe5992c31f7efb4eea7e9f03cddb10d8447126a1c4b8...</td>\n",
       "    </tr>\n",
       "  </tbody>\n",
       "</table>\n",
       "<p>201435 rows × 1 columns</p>\n",
       "</div>"
      ],
      "text/plain": [
       "                                                        0\n",
       "0                                         \"1\",\"Barchiefs\"\n",
       "1                                            \"2\",\"Barmen\"\n",
       "2                                            \"1\",\"1\",\"10\"\n",
       "3                                            \"2\",\"1\",\"11\"\n",
       "4                                            \"3\",\"1\",\"25\"\n",
       "...                                                   ...\n",
       "201430  \"d60f10f1007ebd9f7bb57ba4d0ef3f91ace3e21c8c3c4...\n",
       "201431  \"db2bfc7e456fe6eb876aeb9f5041a8401c25762ac97d8...\n",
       "201432  \"eb4592a8e95a3016a256e9c55742054733cf2bc687945...\n",
       "201433  \"edfc5ba030622c28a77906f8e8374fd569ac23ef9e724...\n",
       "201434  \"ffe5992c31f7efb4eea7e9f03cddb10d8447126a1c4b8...\n",
       "\n",
       "[201435 rows x 1 columns]"
      ]
     },
     "execution_count": 17,
     "metadata": {},
     "output_type": "execute_result"
    }
   ],
   "source": [
    "data"
   ]
  },
  {
   "cell_type": "code",
   "execution_count": null,
   "id": "touched-projection",
   "metadata": {},
   "outputs": [],
   "source": []
  }
 ],
 "metadata": {
  "kernelspec": {
   "display_name": "Python 3",
   "language": "python",
   "name": "python3"
  },
  "language_info": {
   "codemirror_mode": {
    "name": "ipython",
    "version": 3
   },
   "file_extension": ".py",
   "mimetype": "text/x-python",
   "name": "python",
   "nbconvert_exporter": "python",
   "pygments_lexer": "ipython3",
   "version": "3.7.3"
  }
 },
 "nbformat": 4,
 "nbformat_minor": 5
}
